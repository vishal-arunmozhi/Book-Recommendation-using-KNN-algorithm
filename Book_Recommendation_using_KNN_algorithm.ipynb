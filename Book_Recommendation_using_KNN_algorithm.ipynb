{
  "nbformat": 4,
  "nbformat_minor": 0,
  "metadata": {
    "colab": {
      "provenance": []
    },
    "kernelspec": {
      "name": "python3",
      "display_name": "Python 3"
    },
    "language_info": {
      "name": "python"
    }
  },
  "cells": [
    {
      "cell_type": "code",
      "execution_count": 1,
      "metadata": {
        "id": "JW3EacXUuCa_"
      },
      "outputs": [],
      "source": [
        "import pandas as pd\n",
        "from scipy.sparse import csr_matrix\n",
        "from sklearn.neighbors import NearestNeighbors"
      ]
    },
    {
      "cell_type": "code",
      "source": [
        "# getting data files\n",
        "!wget -q https://cdn.freecodecamp.org/project-data/books/book-crossings.zip\n",
        "\n",
        "!unzip -q book-crossings.zip\n",
        "\n",
        "books_filename = 'BX-Books.csv'\n",
        "ratings_filename = 'BX-Book-Ratings.csv'"
      ],
      "metadata": {
        "id": "IHqEIKOCug79"
      },
      "execution_count": 2,
      "outputs": []
    },
    {
      "cell_type": "code",
      "source": [
        "# import csv data into dataframes\n",
        "df_books = pd.read_csv(\n",
        "    books_filename,\n",
        "    encoding = \"ISO-8859-1\",\n",
        "    sep=\";\",\n",
        "    header=0,\n",
        "    names=['isbn', 'title', 'author'],\n",
        "    usecols=['isbn', 'title', 'author'],\n",
        "    dtype={'isbn': 'str', 'title': 'str', 'author': 'str'}\n",
        "    )\n",
        "\n",
        "df_ratings = pd.read_csv(\n",
        "    ratings_filename,\n",
        "    encoding = \"ISO-8859-1\",\n",
        "    sep=\";\",\n",
        "    header=0,\n",
        "    names=['user', 'isbn', 'rating'],\n",
        "    usecols=['user', 'isbn', 'rating'],\n",
        "    dtype={'user': 'int32', 'isbn': 'str', 'rating': 'float32'}\n",
        "    )"
      ],
      "metadata": {
        "id": "5tytB44SvDlJ"
      },
      "execution_count": 3,
      "outputs": []
    },
    {
      "cell_type": "code",
      "source": [
        "# function to return book name taking in isbn\n",
        "def isbn_converter(isbn_value):\n",
        "    title = df_books.loc[df_books['isbn'] == isbn_value, 'title'].values[0]\n",
        "    return title"
      ],
      "metadata": {
        "id": "rnOinQ9AAZmD"
      },
      "execution_count": 4,
      "outputs": []
    },
    {
      "cell_type": "code",
      "source": [
        "# removing users with less than 200 ratings and books with less than 100 ratings to improve statistical significance\n",
        "user_rating_counts = df_ratings['user'].value_counts()\n",
        "users_with_min_200_ratings = user_rating_counts[user_rating_counts >= 200].index\n",
        "\n",
        "book_rating_counts = df_ratings['isbn'].value_counts()\n",
        "books_with_min_100_ratings = book_rating_counts[book_rating_counts >= 100].index\n",
        "\n",
        "df_ratings_filtered = df_ratings[df_ratings['user'].isin(users_with_min_200_ratings) & df_ratings['isbn'].isin(books_with_min_100_ratings)]\n",
        "print(df_ratings_filtered)"
      ],
      "metadata": {
        "id": "KAVycYT92tLz",
        "colab": {
          "base_uri": "https://localhost:8080/"
        },
        "outputId": "4794459c-5dcc-4a7f-d554-7e6a73374a33"
      },
      "execution_count": 5,
      "outputs": [
        {
          "output_type": "stream",
          "name": "stdout",
          "text": [
            "           user        isbn  rating\n",
            "1456     277427  002542730X    10.0\n",
            "1469     277427  0060930535     0.0\n",
            "1471     277427  0060934417     0.0\n",
            "1474     277427  0061009059     9.0\n",
            "1484     277427  0140067477     0.0\n",
            "...         ...         ...     ...\n",
            "1147304  275970  0804111359     0.0\n",
            "1147436  275970  140003065X     0.0\n",
            "1147439  275970  1400031346     0.0\n",
            "1147440  275970  1400031354     0.0\n",
            "1147441  275970  1400031362     0.0\n",
            "\n",
            "[49781 rows x 3 columns]\n"
          ]
        }
      ]
    },
    {
      "cell_type": "code",
      "source": [
        "# converting the dataframe into a matrix and then into csr matrix\n",
        "user_item_matrix = df_ratings_filtered.pivot(index='isbn', columns='user', values='rating').fillna(0)\n",
        "user_item_csr_matrix = csr_matrix(user_item_matrix.values)"
      ],
      "metadata": {
        "id": "tS82KTqtgg_y"
      },
      "execution_count": 6,
      "outputs": []
    },
    {
      "cell_type": "code",
      "source": [
        "# defining the model and training it\n",
        "knn_model = NearestNeighbors(n_neighbors=5, metric='cosine')\n",
        "knn_model.fit(user_item_csr_matrix)"
      ],
      "metadata": {
        "id": "pWvJ6fp6hv7f",
        "colab": {
          "base_uri": "https://localhost:8080/",
          "height": 74
        },
        "outputId": "35ce84b0-8f46-40f4-9afd-54642612985e"
      },
      "execution_count": 7,
      "outputs": [
        {
          "output_type": "execute_result",
          "data": {
            "text/plain": [
              "NearestNeighbors(metric='cosine')"
            ],
            "text/html": [
              "<style>#sk-container-id-1 {color: black;background-color: white;}#sk-container-id-1 pre{padding: 0;}#sk-container-id-1 div.sk-toggleable {background-color: white;}#sk-container-id-1 label.sk-toggleable__label {cursor: pointer;display: block;width: 100%;margin-bottom: 0;padding: 0.3em;box-sizing: border-box;text-align: center;}#sk-container-id-1 label.sk-toggleable__label-arrow:before {content: \"▸\";float: left;margin-right: 0.25em;color: #696969;}#sk-container-id-1 label.sk-toggleable__label-arrow:hover:before {color: black;}#sk-container-id-1 div.sk-estimator:hover label.sk-toggleable__label-arrow:before {color: black;}#sk-container-id-1 div.sk-toggleable__content {max-height: 0;max-width: 0;overflow: hidden;text-align: left;background-color: #f0f8ff;}#sk-container-id-1 div.sk-toggleable__content pre {margin: 0.2em;color: black;border-radius: 0.25em;background-color: #f0f8ff;}#sk-container-id-1 input.sk-toggleable__control:checked~div.sk-toggleable__content {max-height: 200px;max-width: 100%;overflow: auto;}#sk-container-id-1 input.sk-toggleable__control:checked~label.sk-toggleable__label-arrow:before {content: \"▾\";}#sk-container-id-1 div.sk-estimator input.sk-toggleable__control:checked~label.sk-toggleable__label {background-color: #d4ebff;}#sk-container-id-1 div.sk-label input.sk-toggleable__control:checked~label.sk-toggleable__label {background-color: #d4ebff;}#sk-container-id-1 input.sk-hidden--visually {border: 0;clip: rect(1px 1px 1px 1px);clip: rect(1px, 1px, 1px, 1px);height: 1px;margin: -1px;overflow: hidden;padding: 0;position: absolute;width: 1px;}#sk-container-id-1 div.sk-estimator {font-family: monospace;background-color: #f0f8ff;border: 1px dotted black;border-radius: 0.25em;box-sizing: border-box;margin-bottom: 0.5em;}#sk-container-id-1 div.sk-estimator:hover {background-color: #d4ebff;}#sk-container-id-1 div.sk-parallel-item::after {content: \"\";width: 100%;border-bottom: 1px solid gray;flex-grow: 1;}#sk-container-id-1 div.sk-label:hover label.sk-toggleable__label {background-color: #d4ebff;}#sk-container-id-1 div.sk-serial::before {content: \"\";position: absolute;border-left: 1px solid gray;box-sizing: border-box;top: 0;bottom: 0;left: 50%;z-index: 0;}#sk-container-id-1 div.sk-serial {display: flex;flex-direction: column;align-items: center;background-color: white;padding-right: 0.2em;padding-left: 0.2em;position: relative;}#sk-container-id-1 div.sk-item {position: relative;z-index: 1;}#sk-container-id-1 div.sk-parallel {display: flex;align-items: stretch;justify-content: center;background-color: white;position: relative;}#sk-container-id-1 div.sk-item::before, #sk-container-id-1 div.sk-parallel-item::before {content: \"\";position: absolute;border-left: 1px solid gray;box-sizing: border-box;top: 0;bottom: 0;left: 50%;z-index: -1;}#sk-container-id-1 div.sk-parallel-item {display: flex;flex-direction: column;z-index: 1;position: relative;background-color: white;}#sk-container-id-1 div.sk-parallel-item:first-child::after {align-self: flex-end;width: 50%;}#sk-container-id-1 div.sk-parallel-item:last-child::after {align-self: flex-start;width: 50%;}#sk-container-id-1 div.sk-parallel-item:only-child::after {width: 0;}#sk-container-id-1 div.sk-dashed-wrapped {border: 1px dashed gray;margin: 0 0.4em 0.5em 0.4em;box-sizing: border-box;padding-bottom: 0.4em;background-color: white;}#sk-container-id-1 div.sk-label label {font-family: monospace;font-weight: bold;display: inline-block;line-height: 1.2em;}#sk-container-id-1 div.sk-label-container {text-align: center;}#sk-container-id-1 div.sk-container {/* jupyter's `normalize.less` sets `[hidden] { display: none; }` but bootstrap.min.css set `[hidden] { display: none !important; }` so we also need the `!important` here to be able to override the default hidden behavior on the sphinx rendered scikit-learn.org. See: https://github.com/scikit-learn/scikit-learn/issues/21755 */display: inline-block !important;position: relative;}#sk-container-id-1 div.sk-text-repr-fallback {display: none;}</style><div id=\"sk-container-id-1\" class=\"sk-top-container\"><div class=\"sk-text-repr-fallback\"><pre>NearestNeighbors(metric=&#x27;cosine&#x27;)</pre><b>In a Jupyter environment, please rerun this cell to show the HTML representation or trust the notebook. <br />On GitHub, the HTML representation is unable to render, please try loading this page with nbviewer.org.</b></div><div class=\"sk-container\" hidden><div class=\"sk-item\"><div class=\"sk-estimator sk-toggleable\"><input class=\"sk-toggleable__control sk-hidden--visually\" id=\"sk-estimator-id-1\" type=\"checkbox\" checked><label for=\"sk-estimator-id-1\" class=\"sk-toggleable__label sk-toggleable__label-arrow\">NearestNeighbors</label><div class=\"sk-toggleable__content\"><pre>NearestNeighbors(metric=&#x27;cosine&#x27;)</pre></div></div></div></div></div>"
            ]
          },
          "metadata": {},
          "execution_count": 7
        }
      ]
    },
    {
      "cell_type": "code",
      "source": [
        "# function to return recommended books\n",
        "def get_recommends(book = \"\"):\n",
        "    target_isbn = df_books.loc[df_books['title'] == book, 'isbn'].values[0]\n",
        "\n",
        "    target_index = user_item_matrix.index.get_loc(target_isbn)\n",
        "\n",
        "    distances, indices = knn_model.kneighbors(user_item_csr_matrix[target_index], n_neighbors=6)\n",
        "\n",
        "    nearest_neighbors_isbn = [user_item_matrix.index[i] for i in indices.flatten()]\n",
        "    nearest_neighbors_isbn = nearest_neighbors_isbn[1:]\n",
        "\n",
        "    distances = [i for i in distances.flatten()]\n",
        "    distances = distances[1:]\n",
        "\n",
        "\n",
        "    for isbn_value in nearest_neighbors_isbn:\n",
        "        print(isbn_converter(isbn_value))\n",
        "\n",
        "    print(distances)\n",
        "\n",
        "\n",
        "get_recommends(\"Where the Heart Is (Oprah's Book Club (Paperback))\")"
      ],
      "metadata": {
        "id": "LO6-okT_zZzw",
        "colab": {
          "base_uri": "https://localhost:8080/"
        },
        "outputId": "ab86422b-fa16-4bf4-8692-4f0d87e85e41"
      },
      "execution_count": 8,
      "outputs": [
        {
          "output_type": "stream",
          "name": "stdout",
          "text": [
            "The Lovely Bones: A Novel\n",
            "I Know This Much Is True\n",
            "The Surgeon\n",
            "The Weight of Water\n",
            "I'll Be Seeing You\n",
            "[0.7234864, 0.7677075, 0.7699411, 0.77085835, 0.8016211]\n"
          ]
        }
      ]
    }
  ]
}